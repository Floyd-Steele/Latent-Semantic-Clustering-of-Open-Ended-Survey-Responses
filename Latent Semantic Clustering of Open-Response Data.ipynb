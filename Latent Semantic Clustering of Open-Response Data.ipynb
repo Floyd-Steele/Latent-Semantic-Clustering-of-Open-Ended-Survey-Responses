{
 "cells": [
  {
   "cell_type": "code",
   "execution_count": 1,
   "metadata": {},
   "outputs": [],
   "source": [
    "#import libraries\n",
    "import numpy as np\n",
    "import pandas as pd\n",
    "from sklearn.feature_extraction.text import TfidfVectorizer\n",
    "from sklearn.decomposition import TruncatedSVD\n",
    "from sklearn.cluster import KMeans\n",
    "import matplotlib.pyplot as plt\n",
    "from math import dist"
   ]
  },
  {
   "cell_type": "code",
   "execution_count": 2,
   "metadata": {},
   "outputs": [
    {
     "name": "stderr",
     "output_type": "stream",
     "text": [
      "C:\\Users\\ffste\\anaconda\\lib\\site-packages\\IPython\\core\\interactiveshell.py:3071: DtypeWarning: Columns (5,17,21,38,50) have mixed types.Specify dtype option on import or set low_memory=False.\n",
      "  has_raised = await self.run_ast_nodes(code_ast.body, cell_name,\n"
     ]
    },
    {
     "data": {
      "text/plain": [
       "0    NaN\n",
       "1    NaN\n",
       "2    NaN\n",
       "3    NaN\n",
       "4    NaN\n",
       "Name: InterestingProblemFreeForm, dtype: object"
      ]
     },
     "execution_count": 2,
     "metadata": {},
     "output_type": "execute_result"
    }
   ],
   "source": [
    "#import yelp dataset & select \"InterestingProblemFreeForm\" column\n",
    "df = pd.read_csv('freeformResponses.csv')\n",
    "df = df['InterestingProblemFreeForm']\n",
    "df.head()"
   ]
  },
  {
   "cell_type": "code",
   "execution_count": 3,
   "metadata": {},
   "outputs": [
    {
     "data": {
      "text/plain": [
       "5        self-learning personalized recommender system\n",
       "6                                                   no\n",
       "7    I'll try to make a machine that can help in fi...\n",
       "8                                     Cancer detection\n",
       "9                                           Healthcare\n",
       "Name: InterestingProblemFreeForm, dtype: object"
      ]
     },
     "execution_count": 3,
     "metadata": {},
     "output_type": "execute_result"
    }
   ],
   "source": [
    "#filter out null data \n",
    "df = df[df.notna()]\n",
    "df.head()"
   ]
  },
  {
   "cell_type": "code",
   "execution_count": 4,
   "metadata": {},
   "outputs": [
    {
     "data": {
      "text/plain": [
       "<4453x4877 sparse matrix of type '<class 'numpy.float64'>'\n",
       "\twith 22024 stored elements in Compressed Sparse Row format>"
      ]
     },
     "execution_count": 4,
     "metadata": {},
     "output_type": "execute_result"
    }
   ],
   "source": [
    "#create L2 normalized term frequency - inverse document frequency matrix (sparse matrix)\n",
    "count_vec = TfidfVectorizer(stop_words='english',norm='l2').fit_transform(df)\n",
    "count_vec"
   ]
  },
  {
   "cell_type": "code",
   "execution_count": 5,
   "metadata": {},
   "outputs": [],
   "source": [
    "#grid search optimization LSA and kMeans hyperparameters using total within sum of squares as loss function\n",
    "comp = [2,4,6,8,10]\n",
    "k = [1,2,3,4,5,6,7,8,9,10]\n",
    "sum_of_squares = []\n",
    "\n",
    "for i in comp:\n",
    "    for j in k:\n",
    "        svd = TruncatedSVD(n_components=i, random_state=0).fit_transform(count_vec)\n",
    "        kmeans = KMeans(n_clusters=j, random_state=0)\n",
    "        kmeans.fit(svd)\n",
    "        sum_of_squares.append(kmeans.inertia_)"
   ]
  },
  {
   "cell_type": "code",
   "execution_count": 6,
   "metadata": {},
   "outputs": [
    {
     "data": {
      "image/png": "[encoded data removed]",
      "text/plain": [
       "<Figure size 432x288 with 1 Axes>"
      ]
     },
     "metadata": {
      "needs_background": "light"
     },
     "output_type": "display_data"
    }
   ],
   "source": [
    "#plot results\n",
    "plt.plot(range(1,51), sum_of_squares,'bx-')\n",
    "plt.xlabel('Grid Search Iteration')\n",
    "plt.ylabel('Total Within Sum of Squares')\n",
    "plt.show()"
   ]
  },
  {
   "cell_type": "markdown",
   "metadata": {},
   "source": [
    "1) Lowering diminsionallity to 2 components yields best results. <br>\n",
    "2) These results are further optimized when k = 3."
   ]
  },
  {
   "cell_type": "code",
   "execution_count": 7,
   "metadata": {},
   "outputs": [],
   "source": [
    "#create optimized pipeline\n",
    "svd = TruncatedSVD(n_components=2, random_state=0).fit_transform(count_vec)\n",
    "kmeans = KMeans(n_clusters=3, random_state=0)\n",
    "kmeans.fit(svd);"
   ]
  },
  {
   "cell_type": "code",
   "execution_count": 8,
   "metadata": {},
   "outputs": [
    {
     "data": {
      "text/plain": [
       "Int64Index([0, 2, 1], dtype='int64', name='labels')"
      ]
     },
     "execution_count": 8,
     "metadata": {},
     "output_type": "execute_result"
    }
   ],
   "source": [
    "#order clusters by membership\n",
    "clust_size = pd.DataFrame({\"labels\":kmeans.labels_}).groupby(\"labels\")[\"labels\"].count().sort_values(ascending = False).index\n",
    "clust_size"
   ]
  },
  {
   "cell_type": "code",
   "execution_count": 9,
   "metadata": {},
   "outputs": [],
   "source": [
    "#find indeces of k medoids \n",
    "indices = []\n",
    "for i in clust_size:\n",
    "    distances = []\n",
    "    for j in svd:\n",
    "        distances.append(dist(kmeans.cluster_centers_[i],j))\n",
    "    indices.append(np.argmin(distances))        "
   ]
  },
  {
   "cell_type": "code",
   "execution_count": 10,
   "metadata": {},
   "outputs": [
    {
     "name": "stdout",
     "output_type": "stream",
     "text": [
      "disease diagnosis\n",
      "\n",
      "\n",
      "\n",
      "semantic language recognition\n",
      "\n",
      "\n",
      "\n",
      "computer vision techniques\n",
      "\n",
      "\n",
      "\n"
     ]
    }
   ],
   "source": [
    "#return medoid review text in order of topic prevalence \n",
    "for i in df.iloc[indices]:\n",
    "    print(i + 3*'\\n')"
   ]
  }
 ],
 "metadata": {
  "kernelspec": {
   "display_name": "Python 3",
   "language": "python",
   "name": "python3"
  },
  "language_info": {
   "codemirror_mode": {
    "name": "ipython",
    "version": 3
   },
   "file_extension": ".py",
   "mimetype": "text/x-python",
   "name": "python",
   "nbconvert_exporter": "python",
   "pygments_lexer": "ipython3",
   "version": "3.8.3"
  }
 },
 "nbformat": 4,
 "nbformat_minor": 4
}
